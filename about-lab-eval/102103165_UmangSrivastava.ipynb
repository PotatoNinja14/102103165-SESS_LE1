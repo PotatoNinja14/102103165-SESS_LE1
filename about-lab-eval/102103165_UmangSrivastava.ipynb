{
  "nbformat": 4,
  "nbformat_minor": 0,
  "metadata": {
    "colab": {
      "provenance": [],
      "include_colab_link": true
    },
    "kernelspec": {
      "name": "python3",
      "display_name": "Python 3"
    },
    "language_info": {
      "name": "python"
    }
  },
  "cells": [
    {
      "cell_type": "markdown",
      "metadata": {
        "id": "view-in-github",
        "colab_type": "text"
      },
      "source": [
        "<a href=\"https://colab.research.google.com/github/PotatoNinja14/102103165-SESS_LE1/blob/main/about-lab-eval/102103165_UmangSrivastava.ipynb\" target=\"_parent\"><img src=\"https://colab.research.google.com/assets/colab-badge.svg\" alt=\"Open In Colab\"/></a>"
      ]
    },
    {
      "cell_type": "markdown",
      "source": [
        "Name: **Umang Srivastava**  \n",
        "Email: `usrivastava1_be21@thapar.edu`  \n",
        "Roll No: **102103165**  \n",
        "Group: **4CO6**  \n",
        "Start Timestamp: 20240911-1000  "
      ],
      "metadata": {
        "id": "JxSGFfaneMt9"
      }
    },
    {
      "cell_type": "markdown",
      "source": [
        "## Question\n",
        "\n",
        "Given the dimensionality d of inputs, a sequence H of channel size for each hidden layer, and number of classes C, define a function to\n",
        "\n",
        "Take as argument a vector of raw inputs x;\n",
        "Define a neural network classifier with d input channels, len(H) hidden layers, each subsequent layer bearing [h1,h2,...] channels finally resulting in C logits corresponding to each class;\n",
        "Activate each intermediate layer with tanh\n",
        " activation; and\n",
        "Return the logits.\n",
        "The function shall be tested for consistency, correctness and efficiency as applicable.\n",
        "\n",
        "Use PyTorch/Tensorflow for implementation. Use of internet resources is dicouraged in the interest of time, though not prohibited."
      ],
      "metadata": {
        "id": "4rz1YOxxf4ON"
      }
    },
    {
      "cell_type": "markdown",
      "source": [
        "## Solution"
      ],
      "metadata": {
        "id": "qx2xTbgSFcWJ"
      }
    },
    {
      "cell_type": "code",
      "execution_count": 4,
      "metadata": {
        "id": "gEwtgNH5dtho"
      },
      "outputs": [],
      "source": [
        "import torch\n",
        "import torch.nn as nn\n",
        "\n",
        "def createNnClassifier(d,H,C) :\n",
        "  lis = []\n",
        "  input_layer = nn.Linear(d, H[0])\n",
        "  lis.append(input_layer)\n",
        "  lis.append(nn.Tanh())\n",
        "\n",
        "  for i in range(1, len(H)):\n",
        "      hlis = nn.Linear(H[i-1], H[i])\n",
        "      lis.append(hlis)\n",
        "      lis.append(nn.Tanh())\n",
        "\n",
        "  llis = nn.Linear(H[-1], C)\n",
        "  lis.append(llis)\n",
        "\n",
        "  model = nn.Sequential(*lis)\n",
        "\n",
        "  return model"
      ]
    },
    {
      "cell_type": "markdown",
      "source": [
        "## Test Case"
      ],
      "metadata": {
        "id": "mTB6wH1AFi9g"
      }
    },
    {
      "cell_type": "code",
      "source": [
        "d,H,C = 4,[3,8],1\n",
        "N = 8  # batch_size\n",
        "x = torch.rand(N,d)\n",
        "\n",
        "model = createNnClassifier(d,H,C)\n",
        "model"
      ],
      "metadata": {
        "id": "sFNxSPp8FZ0a",
        "outputId": "b44dd1d5-37f6-4193-a219-aaf2685f73c3",
        "colab": {
          "base_uri": "https://localhost:8080/"
        }
      },
      "execution_count": 5,
      "outputs": [
        {
          "output_type": "execute_result",
          "data": {
            "text/plain": [
              "Sequential(\n",
              "  (0): Linear(in_features=4, out_features=3, bias=True)\n",
              "  (1): Tanh()\n",
              "  (2): Linear(in_features=3, out_features=8, bias=True)\n",
              "  (3): Tanh()\n",
              "  (4): Linear(in_features=8, out_features=1, bias=True)\n",
              ")"
            ]
          },
          "metadata": {},
          "execution_count": 5
        }
      ]
    },
    {
      "cell_type": "code",
      "source": [
        "y_hat = torch.argmax(model(x), dim=1)\n",
        "\n",
        "y_hat.size()"
      ],
      "metadata": {
        "id": "3knBrdIMH4lG",
        "outputId": "18c25b60-08d9-4415-99ec-6c372b204c62",
        "colab": {
          "base_uri": "https://localhost:8080/"
        }
      },
      "execution_count": 6,
      "outputs": [
        {
          "output_type": "execute_result",
          "data": {
            "text/plain": [
              "torch.Size([8])"
            ]
          },
          "metadata": {},
          "execution_count": 6
        }
      ]
    }
  ]
}